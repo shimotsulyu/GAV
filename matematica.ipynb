{
 "cells": [
  {
   "cell_type": "code",
   "execution_count": 5,
   "id": "adopted-investigation",
   "metadata": {},
   "outputs": [],
   "source": [
    "import math as mt\n",
    "import numpy as np\n",
    "#reduz a fracao na menor forma\n",
    "def mfrac(a,b):\n",
    "    for i in range(2,max([a,b])):\n",
    "        if a%i==0 and b%i==0:\n",
    "            return a/i,b/i,i\n",
    "    return a,b\n",
    "\n",
    "#calcula a potencia da fracao\n",
    "def powfrac(a,b,i):\n",
    "    if i<0:\n",
    "        i*=-1\n",
    "        return b**i,a**i\n",
    "    return a**i,b**i"
   ]
  },
  {
   "cell_type": "code",
   "execution_count": 7,
   "id": "serial-baker",
   "metadata": {},
   "outputs": [
    {
     "data": {
      "text/plain": [
       "24"
      ]
     },
     "execution_count": 7,
     "metadata": {},
     "output_type": "execute_result"
    }
   ],
   "source": [
    "mt.factorial(4)"
   ]
  },
  {
   "cell_type": "code",
   "execution_count": 8,
   "id": "every-graham",
   "metadata": {},
   "outputs": [
    {
     "data": {
      "text/plain": [
       "array([[14, 20],\n",
       "       [14, -9],\n",
       "       [10,  6]])"
      ]
     },
     "execution_count": 8,
     "metadata": {},
     "output_type": "execute_result"
    }
   ],
   "source": [
    "A = [[2,7],[10,6]]\n",
    "B = [[2,1],[-3,2],[0,1]]\n",
    "np.dot(B,A)"
   ]
  },
  {
   "cell_type": "code",
   "execution_count": 9,
   "id": "consistent-federal",
   "metadata": {},
   "outputs": [
    {
     "data": {
      "text/plain": [
       "5.000000000000001"
      ]
     },
     "execution_count": 9,
     "metadata": {},
     "output_type": "execute_result"
    }
   ],
   "source": [
    "A = [[2,1,3],[1,1,1],[0,1,4]]\n",
    "np.linalg.det(A)"
   ]
  },
  {
   "cell_type": "code",
   "execution_count": null,
   "id": "documentary-crowd",
   "metadata": {},
   "outputs": [],
   "source": []
  }
 ],
 "metadata": {
  "kernelspec": {
   "display_name": "Python 3",
   "language": "python",
   "name": "python3"
  },
  "language_info": {
   "codemirror_mode": {
    "name": "ipython",
    "version": 3
   },
   "file_extension": ".py",
   "mimetype": "text/x-python",
   "name": "python",
   "nbconvert_exporter": "python",
   "pygments_lexer": "ipython3",
   "version": "3.6.9"
  }
 },
 "nbformat": 4,
 "nbformat_minor": 5
}
