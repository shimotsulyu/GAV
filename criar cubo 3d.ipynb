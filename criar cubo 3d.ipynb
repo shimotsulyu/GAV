{
 "cells": [
  {
   "cell_type": "code",
   "execution_count": 160,
   "metadata": {},
   "outputs": [],
   "source": [
    "import numpy as np\n",
    "import pandas as pd\n",
    "def cube3d(l):\n",
    "    #data = pandas dataframe\n",
    "    #l = lado do cubo\n",
    "    count, data = 0, np.zeros((l**3,4)) #contador e matriz\n",
    "    for i in range(0,l):\n",
    "        for j in range(0,l):\n",
    "            for k in range(0,l):\n",
    "                data[count] = ([i,j,k,0])\n",
    "                if count!=(l**3)-1:\n",
    "                    count+=1\n",
    "    return pd.DataFrame(data,columns=[0,1,2,3])\n",
    "def ramp(data,b,theta,d,reductor=bool):\n",
    "    #data = pandas dataframe\n",
    "    #b = altura inicial da rampa\n",
    "    #theta = angulo de inclinação (graus)\n",
    "    #d = largura da rampa\n",
    "    data.loc[(b-0.5 <= data[2]-round(np.tan(np.radians(theta)),2)*data[0]) & (data[2]-round(np.tan(np.radians(theta)),2)*data[0] <= b+0.5) & (((data[2].max()-data[2].min())/2)-d/2 <= data[1]) & (data[1] <= ((data[2].max()-data[2].min())/2)+d/2),3] = 1\n",
    "    if reductor is True:\n",
    "        data = data.loc[data[2]<=data.loc[data[3]==1,2].max()]\n",
    "    return data"
   ]
  },
  {
   "cell_type": "code",
   "execution_count": 164,
   "metadata": {},
   "outputs": [
    {
     "data": {
      "text/plain": [
       "array([], dtype=float64)"
      ]
     },
     "execution_count": 164,
     "metadata": {},
     "output_type": "execute_result"
    }
   ],
   "source": [
    "#cria o cubo\n",
    "data = cube3d(20)\n",
    "#salva arquivo\n",
    "data.to_csv('cube_'+str(l**3)+'points.txt',index=False)\n",
    "#cria rampa\n",
    "data = ramp(data,0,20,6,True)\n",
    "#mostra o cubo\n",
    "v = pptk.viewer(np.c_[data[0],data[1],data[2]])\n",
    "v.set(point_size=0.1)\n",
    "v.attributes(data[3],data[2])\n",
    "v.get('selected')"
   ]
  },
  {
   "cell_type": "code",
   "execution_count": null,
   "metadata": {},
   "outputs": [],
   "source": []
  }
 ],
 "metadata": {
  "kernelspec": {
   "display_name": "Python 3",
   "language": "python",
   "name": "python3"
  },
  "language_info": {
   "codemirror_mode": {
    "name": "ipython",
    "version": 3
   },
   "file_extension": ".py",
   "mimetype": "text/x-python",
   "name": "python",
   "nbconvert_exporter": "python",
   "pygments_lexer": "ipython3",
   "version": "3.7.4"
  }
 },
 "nbformat": 4,
 "nbformat_minor": 2
}
