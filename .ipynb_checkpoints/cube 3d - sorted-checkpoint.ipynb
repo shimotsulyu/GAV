{
 "cells": [
  {
   "cell_type": "code",
   "execution_count": 1,
   "metadata": {},
   "outputs": [],
   "source": [
    "import numpy as np\n",
    "import pandas as pd\n",
    "import pptk\n",
    "def cube3d(l,val=0,rand=False,n_max=100):\n",
    "    '''\n",
    "    Entrada:\n",
    "    data = pandas dataframe\n",
    "    l = lado do cubo\n",
    "    val = valor atribuido para cada ponto (padrão '0')\n",
    "    rand = True para atribuir valores aleatorios\n",
    "    n_max = valor maximo aleatorio\n",
    "    Saída:\n",
    "    data = pandas dataframe com posição x,y,z e valor\n",
    "    '''\n",
    "    count, data = 0, np.zeros((l**3,4)) #contador e matriz\n",
    "    for i in range(0,l):\n",
    "        for j in range(0,l):\n",
    "            for k in range(0,l):\n",
    "                if rand is True:\n",
    "                    data[count] = ([i,j,k,np.rand.randint(n_max)])\n",
    "                else:\n",
    "                    data[count] = ([i,j,k,val])\n",
    "                if count!=(l**3)-1:\n",
    "                    count+=1\n",
    "    return pd.DataFrame(data,columns=[0,1,2,3])\n",
    "def ramp(data,b,theta,d,reductor=bool):\n",
    "    ''' \n",
    "    Entrada:\n",
    "    data = pandas dataframe\n",
    "    b = altura inicial da rampa\n",
    "    theta = angulo de inclinação (graus)\n",
    "    d = largura da rampa\n",
    "    Saída:\n",
    "    data = valor de data com rampa\n",
    "    '''\n",
    "    data.loc[(b-0.5 <= data[2]-round(np.tan(np.radians(theta)),2)*data[0]) & (data[2]-round(np.tan(np.radians(theta)),2)*data[0] <= b+0.5) & (((data[2].max()-data[2].min())/2)-d/2 <= data[1]) & (data[1] <= ((data[2].max()-data[2].min())/2)+d/2),3] = 1\n",
    "    if reductor is True:\n",
    "        data = data.loc[data[2]<=data.loc[data[3]==1,2].max()]\n",
    "    return data"
   ]
  },
  {
   "cell_type": "code",
   "execution_count": 5,
   "metadata": {},
   "outputs": [],
   "source": [
    "#cria o cubo\n",
    "l=30\n",
    "data = cube3d(l)\n",
    "#salva arquivo\n",
    "data.to_csv('cube_'+str(l**3)+'points.txt',index=False)\n",
    "#cria rampa\n",
    "data = ramp(data,0,45,15,True)\n",
    "#plot 3d\n",
    "v = pptk.viewer(np.c_[data[0],data[1],data[2]])\n",
    "v.set(point_size=0.05,bg_color=[0,0,0,1],r=200)\n",
    "v.attributes(data[3],data[2])\n",
    "v.get('selected')\n",
    "v.capture('demo images/['+str(l)+','+str(l)+','+str(l)+'] - cloud.png')"
   ]
  },
  {
   "cell_type": "code",
   "execution_count": null,
   "metadata": {},
   "outputs": [],
   "source": []
  }
 ],
 "metadata": {
  "kernelspec": {
   "display_name": "Python 3",
   "language": "python",
   "name": "python3"
  },
  "language_info": {
   "codemirror_mode": {
    "name": "ipython",
    "version": 3
   },
   "file_extension": ".py",
   "mimetype": "text/x-python",
   "name": "python",
   "nbconvert_exporter": "python",
   "pygments_lexer": "ipython3",
   "version": "3.7.4"
  }
 },
 "nbformat": 4,
 "nbformat_minor": 2
}
