{
 "cells": [
  {
   "cell_type": "code",
   "execution_count": 90,
   "metadata": {},
   "outputs": [],
   "source": [
    "import numpy as np\n",
    "import pptk\n",
    "def cloud(maxvalue,size):\n",
    "    '''\n",
    "    Entrada:\n",
    "    maxvalue = valor máximo dos elementos\n",
    "    size = tamanho da matriz [m,n]\n",
    "    Saída:\n",
    "    s = posicao x,y,z e valor [i,j]\n",
    "    '''\n",
    "    data = np.random.randint(maxvalue, size=(size[0],size[1])) #cria matriz aleatoria\n",
    "    s = np.zeros((size[0]*size[1],3))\n",
    "    line = 0\n",
    "    for i in range(0,size[0]):\n",
    "        for j in range(0,size[1]):\n",
    "            s[line,0], s[line,1], s[line,2] = i, j, data[i,j]\n",
    "            line+=1\n",
    "    return s"
   ]
  },
  {
   "cell_type": "code",
   "execution_count": 96,
   "metadata": {},
   "outputs": [
    {
     "data": {
      "text/plain": [
       "array([], dtype=float64)"
      ]
     },
     "execution_count": 96,
     "metadata": {},
     "output_type": "execute_result"
    }
   ],
   "source": [
    "#cria nuvem de pontos\n",
    "s = cloud(25, [100,100])\n",
    "#plot 3d\n",
    "v = pptk.viewer(s)\n",
    "v.set(point_size=0.1)\n",
    "v.attributes(s[:,2])\n",
    "v.get('selected')"
   ]
  },
  {
   "cell_type": "code",
   "execution_count": null,
   "metadata": {},
   "outputs": [],
   "source": []
  }
 ],
 "metadata": {
  "kernelspec": {
   "display_name": "Python 3",
   "language": "python",
   "name": "python3"
  },
  "language_info": {
   "codemirror_mode": {
    "name": "ipython",
    "version": 3
   },
   "file_extension": ".py",
   "mimetype": "text/x-python",
   "name": "python",
   "nbconvert_exporter": "python",
   "pygments_lexer": "ipython3",
   "version": "3.7.4"
  }
 },
 "nbformat": 4,
 "nbformat_minor": 2
}
