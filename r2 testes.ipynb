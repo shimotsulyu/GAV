{
 "cells": [
  {
   "cell_type": "code",
   "execution_count": 12,
   "metadata": {},
   "outputs": [],
   "source": [
    "import numpy as np\n",
    "import matplotlib.pyplot as plt\n",
    "%matplotlib inline\n",
    "def rsquare(x,z,degree=1):\n",
    "    '''\n",
    "    Entrada:\n",
    "    x = posição em x\n",
    "    z = posição em z ou y\n",
    "    degree = ordem da função\n",
    "    Saída:\n",
    "    r2 = r quadrado\n",
    "    coeffs[0] = a inclinação\n",
    "    coeffs[1] = b\n",
    "    '''\n",
    "    coeffs = np.polyfit(x,z,degree)\n",
    "    p = np.poly1d(coeffs)\n",
    "    zhat = p(x)\n",
    "    zbar = np.sum(z)/len(z)\n",
    "    ssreg = np.sum((zhat-zbar)**2)\n",
    "    sstot = np.sum((z-zbar)**2)\n",
    "    r2 = ssreg/sstot\n",
    "    return r2, coeffs[degree-1:degree+1]\n",
    "def selectway(data,anchor,theta,error):\n",
    "    '''\n",
    "    Entrada:\n",
    "    data = matriz[m,n]\n",
    "    anchor = ponto de referência [i,j]\n",
    "    theta = ângulo de rotação\n",
    "    error = erro aceitável\n",
    "    Saída:\n",
    "    x = posição x\n",
    "    z = posição z\n",
    "    '''\n",
    "    #equação da reta y = tan(thetta)*x+b\n",
    "    b = anchor[1]-round(np.tan(np.radians(theta)),2)*anchor[0]\n",
    "    x, z = np.zeros(len(data[0,:])*3), np.zeros(len(data[1,:])*3)\n",
    "    count = 0\n",
    "    for i in range(0,len(data[0,:])):\n",
    "         for j in range(0,len(data[1,:])):\n",
    "                if b-error<=j-round(np.tan(np.radians(theta)),2)*i and j-round(np.tan(np.radians(theta)),2)*i<=b+error:\n",
    "                    x[count] = round(np.cos(np.radians(theta))*i + np.sin(np.radians(theta))*j,2)\n",
    "                    z[count] = data[i,j]\n",
    "                    count+=1\n",
    "    z = z[0:np.count_nonzero(z)]\n",
    "    x = x[0:len(z)]\n",
    "    return x, z"
   ]
  },
  {
   "cell_type": "code",
   "execution_count": 14,
   "metadata": {},
   "outputs": [
    {
     "name": "stdout",
     "output_type": "stream",
     "text": [
      "r2 0.12346120065061567\n",
      "coeffs [0.24751348 2.82212098]\n"
     ]
    },
    {
     "data": {
      "image/png": "[encoded data removed]",
      "text/plain": [
       "<Figure size 720x720 with 1 Axes>"
      ]
     },
     "metadata": {
      "needs_background": "light"
     },
     "output_type": "display_data"
    }
   ],
   "source": [
    "data = np.random.randint(10, size=(10,10)) #cria matriz aleatoria\n",
    "#plot 2d\n",
    "plt.figure(figsize=(10,10))\n",
    "plt.imshow(data)\n",
    "#calcula rsquare na direção theta\n",
    "x,z = selectway(data,[0,0],45,0.5)\n",
    "r2, coeffs = rsquare(x,z)\n",
    "print('r2',r2)\n",
    "print('coeffs',coeffs)"
   ]
  },
  {
   "cell_type": "code",
   "execution_count": null,
   "metadata": {},
   "outputs": [],
   "source": []
  }
 ],
 "metadata": {
  "kernelspec": {
   "display_name": "Python 3",
   "language": "python",
   "name": "python3"
  },
  "language_info": {
   "codemirror_mode": {
    "name": "ipython",
    "version": 3
   },
   "file_extension": ".py",
   "mimetype": "text/x-python",
   "name": "python",
   "nbconvert_exporter": "python",
   "pygments_lexer": "ipython3",
   "version": "3.6.9"
  }
 },
 "nbformat": 4,
 "nbformat_minor": 2
}
